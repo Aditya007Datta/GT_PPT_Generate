{
  "nbformat": 4,
  "nbformat_minor": 0,
  "metadata": {
    "colab": {
      "provenance": []
    },
    "kernelspec": {
      "name": "python3",
      "display_name": "Python 3"
    },
    "language_info": {
      "name": "python"
    }
  },
  "cells": [
    {
      "cell_type": "code",
      "execution_count": 1,
      "metadata": {
        "colab": {
          "base_uri": "https://localhost:8080/"
        },
        "id": "wkSoBhai-BrC",
        "outputId": "f33c5a03-a492-4d33-aabb-fdbe016cd928"
      },
      "outputs": [
        {
          "output_type": "stream",
          "name": "stdout",
          "text": [
            "Collecting python-pptx\n",
            "  Downloading python_pptx-1.0.2-py3-none-any.whl.metadata (2.5 kB)\n",
            "Requirement already satisfied: Pillow>=3.3.2 in /usr/local/lib/python3.11/dist-packages (from python-pptx) (11.2.1)\n",
            "Collecting XlsxWriter>=0.5.7 (from python-pptx)\n",
            "  Downloading xlsxwriter-3.2.5-py3-none-any.whl.metadata (2.7 kB)\n",
            "Requirement already satisfied: lxml>=3.1.0 in /usr/local/lib/python3.11/dist-packages (from python-pptx) (5.4.0)\n",
            "Requirement already satisfied: typing-extensions>=4.9.0 in /usr/local/lib/python3.11/dist-packages (from python-pptx) (4.14.0)\n",
            "Downloading python_pptx-1.0.2-py3-none-any.whl (472 kB)\n",
            "\u001b[2K   \u001b[90m━━━━━━━━━━━━━━━━━━━━━━━━━━━━━━━━━━━━━━━━\u001b[0m \u001b[32m472.8/472.8 kB\u001b[0m \u001b[31m7.2 MB/s\u001b[0m eta \u001b[36m0:00:00\u001b[0m\n",
            "\u001b[?25hDownloading xlsxwriter-3.2.5-py3-none-any.whl (172 kB)\n",
            "\u001b[2K   \u001b[90m━━━━━━━━━━━━━━━━━━━━━━━━━━━━━━━━━━━━━━━━\u001b[0m \u001b[32m172.3/172.3 kB\u001b[0m \u001b[31m9.0 MB/s\u001b[0m eta \u001b[36m0:00:00\u001b[0m\n",
            "\u001b[?25hInstalling collected packages: XlsxWriter, python-pptx\n",
            "Successfully installed XlsxWriter-3.2.5 python-pptx-1.0.2\n"
          ]
        }
      ],
      "source": [
        "pip install python-pptx"
      ]
    },
    {
      "cell_type": "code",
      "source": [
        "from pptx import Presentation\n",
        "# Load your presentation template\n",
        "prs = Presentation(\"Website Assessment Report.pptx\")  # Replace with your actual file name\n",
        "# Choose the slide layout index you're interested in\n",
        "# Slide layouts are indexed from 0\n",
        "layout_index = 2  # 🔁 Change this index as needed to inspect other layouts\n",
        "# Get the layout\n",
        "slide_layout = prs.slide_layouts[layout_index]\n",
        "# Print placeholder details\n",
        "print(f\"Details for layout [{layout_index}]: {slide_layout.name}\")\n",
        "for placeholder in slide_layout.placeholders:\n",
        "    print(\n",
        "        f\"Placeholder index: {placeholder.placeholder_format.idx}, \"\n",
        "        f\"Type: {placeholder.placeholder_format.type}, \"\n",
        "        f\"Name: '{placeholder.name}'\"\n",
        "    )"
      ],
      "metadata": {
        "colab": {
          "base_uri": "https://localhost:8080/"
        },
        "id": "DBsWK7LvDi-M",
        "outputId": "971c86a7-2ce1-4c0d-ac45-edf070af9f8f"
      },
      "execution_count": 75,
      "outputs": [
        {
          "output_type": "stream",
          "name": "stdout",
          "text": [
            "Details for layout [2]: 2\n",
            "Placeholder index: 1, Type: PICTURE (18), Name: 'Picture Placeholder 2'\n",
            "Placeholder index: 0, Type: TITLE (1), Name: 'Title 1'\n"
          ]
        }
      ]
    },
    {
      "cell_type": "code",
      "source": [
        "import pandas as pd\n",
        "import seaborn as sns\n",
        "import matplotlib.pyplot as plt\n",
        "from pptx import Presentation\n",
        "from pptx.enum.shapes import PP_PLACEHOLDER\n",
        "from pptx.util import Inches, Pt\n",
        "from pptx.dml.color import RGBColor\n",
        "import numpy as np\n",
        "import re, os\n",
        "\n",
        "# --- CONFIG ---\n",
        "EXCEL_FILE   = 'Sample Audit Report v1.xlsx'\n",
        "TEMPLATE_PPT = 'Website Assessment Report.pptx'\n",
        "OUTPUT_PPT   = 'Generated_Final.pptx'\n",
        "CHART_LAYOUT = '2'\n",
        "TOP_N_BARS   = 10\n",
        "\n",
        "# --- 1) Load & Clean Data ---\n",
        "df = pd.read_excel(EXCEL_FILE, sheet_name='Domain Audit Report', skiprows=3)\n",
        "df.columns = df.columns.str.strip()\n",
        "active = df[df['Level of Traffic Volume'] != 'N/A - Dead Links / Redirects'].copy()\n",
        "active['Total_Score'] = active['Compliance Score'].str.split().str[3].astype(float)\n",
        "active['Compliance Score'] = active['Compliance Score'].str.split().str[0].astype(float)\n",
        "active['Normalized Compliance Score'] = active['Compliance Score'] / active['Total_Score']\n",
        "\n",
        "# --- 2) Open PPT & Find Chart-Layout Slide ---\n",
        "prs = Presentation(TEMPLATE_PPT)\n",
        "# find the layout object\n",
        "chart_layout = next((l for l in prs.slide_layouts if l.name == CHART_LAYOUT), None)\n",
        "if not chart_layout:\n",
        "    raise RuntimeError(f\"Layout '{CHART_LAYOUT}' not found in template.\")\n",
        "\n",
        "# find the first slide already using that layout\n",
        "first_chart_slide_idx = next(\n",
        "    (i for i, s in enumerate(prs.slides) if s.slide_layout.name == CHART_LAYOUT),\n",
        "    None\n",
        ")\n",
        "# if none exists, create one at the end\n",
        "if first_chart_slide_idx is None:\n",
        "    slide_for_first = prs.slides.add_slide(chart_layout)\n",
        "    first_chart_slide_idx = len(prs.slides) - 1\n",
        "else:\n",
        "    slide_for_first = prs.slides[first_chart_slide_idx]\n",
        "\n",
        "# --- 3) Generate Visualizations ---\n",
        "viz_specs = []\n",
        "for col in active.columns:\n",
        "    if col == 'Total_Score':\n",
        "        continue\n",
        "    if active[col].nunique() >= 0.9 * len(active):\n",
        "        continue\n",
        "\n",
        "    data = active[col].dropna()\n",
        "    safe = re.sub(r'[^\\w\\-]', '_', col)\n",
        "    fig, ax = plt.subplots(figsize=(8, 5))\n",
        "\n",
        "    if pd.api.types.is_numeric_dtype(data):\n",
        "        sns.histplot(data, kde=True, stat='density', color='skyblue', edgecolor='black', ax=ax)\n",
        "        m = data.mean()\n",
        "        ax.axvline(m, color='red', linestyle='--', linewidth=2)\n",
        "        ax.text(m, ax.get_ylim()[1]*0.9, f\"µ={m:.1f}\", ha='center', va='top', color='red', weight='bold')\n",
        "        ax.set_title(f\"{col} Distribution\", weight='bold')\n",
        "        suffix = 'hist'\n",
        "    else:\n",
        "        counts = data.value_counts()\n",
        "        if len(counts) < 5:\n",
        "            colors = sns.color_palette(\"Set2\", len(counts))\n",
        "            explode = [0.05]*len(counts)\n",
        "            wedges, texts, autotexts = ax.pie(\n",
        "                counts.values, labels=counts.index,\n",
        "                autopct='%1.1f%%', startangle=90,\n",
        "                shadow=True, explode=explode, colors=colors\n",
        "            )\n",
        "            for at in autotexts:\n",
        "                at.set_fontsize(10); at.set_weight('bold')\n",
        "            ax.set_title(f\"Distribution of {col}\", weight='bold')\n",
        "            ax.axis('equal')\n",
        "            suffix = 'pie'\n",
        "        else:\n",
        "            top = counts.head(TOP_N_BARS)\n",
        "            sns.barplot(x=top.values, y=top.index, palette='viridis', edgecolor='black', ax=ax)\n",
        "            ax.set_title(f\"Top {TOP_N_BARS} Values in {col}\", weight='bold')\n",
        "            ax.set_xlabel('Count'); ax.set_ylabel(col)\n",
        "            for i, v in enumerate(top.values):\n",
        "                ax.text(v + max(top.values)*0.01, i, str(v), va='center', weight='bold')\n",
        "            suffix = 'hbar'\n",
        "\n",
        "    fig.tight_layout()\n",
        "    img_path = f\"viz_{safe}_{suffix}.png\"\n",
        "    fig.savefig(img_path, dpi=200)\n",
        "    plt.close(fig)\n",
        "    viz_specs.append((col, img_path))\n",
        "\n",
        "# --- 4) Insert First Visualization into That Slide ---\n",
        "first_col, first_img = viz_specs[0]\n",
        "\n",
        "# Title placeholder index 0\n",
        "try:\n",
        "    title_ph = slide_for_first.placeholders[11]\n",
        "    title_ph.text = f\"{first_col} Distribution\"\n",
        "except KeyError:\n",
        "    # fallback: manual textbox\n",
        "    tb = slide_for_first.shapes.add_textbox(Inches(1), Inches(0.5), Inches(8), Inches(1))\n",
        "    p = tb.text_frame.paragraphs[0]\n",
        "    r = p.add_run()\n",
        "    r.text = f\"{first_col} Distribution\"\n",
        "    r.font.size = Pt(24); r.font.bold = True; r.font.color.rgb = RGBColor(0,0,0)\n",
        "\n",
        "# Picture placeholder index 10\n",
        "try:\n",
        "    pic_ph = slide_for_first.placeholders[10]\n",
        "    slide_for_first.shapes.add_picture(first_img, pic_ph.left, pic_ph.top, pic_ph.width, pic_ph.height)\n",
        "except KeyError:\n",
        "    # fallback: manual placement\n",
        "    slide_for_first.shapes.add_picture(first_img, Inches(1), Inches(1.5), width=Inches(7.5), height=Inches(4.5))\n",
        "\n",
        "# --- 5) Insert Remaining Charts Before Final Slide ---\n",
        "insert_pos = len(prs.slides) - 1  # one before the last slide\n",
        "for col, img_path in viz_specs[1:]:\n",
        "    sld = prs.slides.add_slide(chart_layout)\n",
        "    # move it just before last\n",
        "    rId = prs.slides._sldIdLst[-1]\n",
        "    prs.slides._sldIdLst.remove(rId)\n",
        "    prs.slides._sldIdLst.insert(insert_pos, rId)\n",
        "    insert_pos += 1\n",
        "\n",
        "    # set title if placeholder exists\n",
        "    if sld.shapes.title:\n",
        "        sld.shapes.title.text = f\"{col} Distribution\"\n",
        "    # find any picture placeholder\n",
        "    ph = next((ph for ph in sld.placeholders\n",
        "               if ph.placeholder_format.type in (PP_PLACEHOLDER.PICTURE, PP_PLACEHOLDER.CHART)\n",
        "                  or 'Picture' in ph.name),\n",
        "              None)\n",
        "    if ph:\n",
        "        sld.shapes.add_picture(img_path, ph.left, ph.top, ph.width, ph.height)\n",
        "    else:\n",
        "        sld.shapes.add_picture(img_path, Inches(1), Inches(1.5), width=Inches(7.5), height=Inches(4.5))\n",
        "\n",
        "# --- 6) Save ---\n",
        "prs.save(OUTPUT_PPT)\n",
        "print(\"✅ PPT generated:\", OUTPUT_PPT)\n"
      ],
      "metadata": {
        "colab": {
          "base_uri": "https://localhost:8080/"
        },
        "id": "zUye3GeKBKuX",
        "outputId": "aed8c798-2506-4e07-de75-a488d4fa8b17"
      },
      "execution_count": 80,
      "outputs": [
        {
          "output_type": "stream",
          "name": "stderr",
          "text": [
            "/tmp/ipython-input-80-3306891468.py:81: FutureWarning: \n",
            "\n",
            "Passing `palette` without assigning `hue` is deprecated and will be removed in v0.14.0. Assign the `y` variable to `hue` and set `legend=False` for the same effect.\n",
            "\n",
            "  sns.barplot(x=top.values, y=top.index, palette='viridis', edgecolor='black', ax=ax)\n",
            "/tmp/ipython-input-80-3306891468.py:88: UserWarning: Tight layout not applied. The left and right margins cannot be made large enough to accommodate all Axes decorations.\n",
            "  fig.tight_layout()\n",
            "/tmp/ipython-input-80-3306891468.py:81: FutureWarning: \n",
            "\n",
            "Passing `palette` without assigning `hue` is deprecated and will be removed in v0.14.0. Assign the `y` variable to `hue` and set `legend=False` for the same effect.\n",
            "\n",
            "  sns.barplot(x=top.values, y=top.index, palette='viridis', edgecolor='black', ax=ax)\n",
            "/tmp/ipython-input-80-3306891468.py:81: FutureWarning: \n",
            "\n",
            "Passing `palette` without assigning `hue` is deprecated and will be removed in v0.14.0. Assign the `x` variable to `hue` and set `legend=False` for the same effect.\n",
            "\n",
            "  sns.barplot(x=top.values, y=top.index, palette='viridis', edgecolor='black', ax=ax)\n"
          ]
        },
        {
          "output_type": "stream",
          "name": "stdout",
          "text": [
            "✅ PPT generated: Generated_Final.pptx\n"
          ]
        }
      ]
    }
  ]
}